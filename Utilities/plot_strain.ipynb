{
 "cells": [
  {
   "cell_type": "code",
   "execution_count": 1,
   "id": "34e229b4",
   "metadata": {},
   "outputs": [],
   "source": [
    "%matplotlib inline\n",
    "import numpy as np\n",
    "import matplotlib.pyplot as plt\n",
    "from matplotlib.collections import LineCollection\n",
    "\n",
    "p1 = np.array([0,0])\n",
    "p2 = np.array([-1,0])\n",
    "p3 = np.array([1,1])\n",
    "p4 = np.array([1,-1])"
   ]
  },
  {
   "cell_type": "code",
   "execution_count": 3,
   "id": "4813f4a7",
   "metadata": {},
   "outputs": [],
   "source": [
    "lines = [[p1,p2],[p1,p3],[p1,p4]]"
   ]
  },
  {
   "cell_type": "code",
   "execution_count": 4,
   "id": "b0616a52",
   "metadata": {},
   "outputs": [],
   "source": [
    "line_segments = LineCollection(lines,linestyles='solid')"
   ]
  },
  {
   "cell_type": "code",
   "execution_count": 5,
   "id": "1cade9a5",
   "metadata": {},
   "outputs": [
    {
     "data": {
      "image/png": "[encoded data removed]",
      "text/plain": [
       "<Figure size 432x288 with 2 Axes>"
      ]
     },
     "metadata": {
      "needs_background": "light"
     },
     "output_type": "display_data"
    },
    {
     "data": {
      "text/plain": [
       "<Figure size 432x288 with 0 Axes>"
      ]
     },
     "metadata": {},
     "output_type": "display_data"
    }
   ],
   "source": [
    "fig,ax = plt.subplots()\n",
    "c = np.array([1.1,-1,1,3])\n",
    "line_segments.set_array(c)\n",
    "ax.add_collection(line_segments)\n",
    "axcb = fig.colorbar(line_segments)\n",
    "axcb.set_label('Line Number')\n",
    "ax.set_title('Line Collection with mapped colors')\n",
    "ax.set_xlim(-2,2)\n",
    "ax.set_ylim(-2,2)\n",
    "#plt.plot(line_segments)  # This allows interactive changing of the colormap.\n",
    "plt.show()\n",
    "plt.clf()"
   ]
  },
  {
   "cell_type": "code",
   "execution_count": 5,
   "id": "7debe2fa",
   "metadata": {},
   "outputs": [
    {
     "data": {
      "text/plain": [
       "array([[0.72709124, 0.90167666, 0.31080663],\n",
       "       [0.44450934, 0.60660683, 0.83222627],\n",
       "       [0.83466398, 0.22547337, 0.40363026],\n",
       "       [0.54681254, 0.08687091, 0.3134663 ],\n",
       "       [0.9052552 , 0.92581628, 0.56296016],\n",
       "       [0.21693849, 0.35258707, 0.27878569]])"
      ]
     },
     "execution_count": 5,
     "metadata": {},
     "output_type": "execute_result"
    }
   ],
   "source": [
    "a = np.random.random((6,3)); a"
   ]
  },
  {
   "cell_type": "code",
   "execution_count": 6,
   "id": "1e3abed2",
   "metadata": {},
   "outputs": [
    {
     "data": {
      "text/plain": [
       "array([0.9052552 , 0.92581628])"
      ]
     },
     "execution_count": 6,
     "metadata": {},
     "output_type": "execute_result"
    }
   ],
   "source": [
    "a[4,:2]"
   ]
  },
  {
   "cell_type": "code",
   "execution_count": 7,
   "id": "a0d687e4",
   "metadata": {},
   "outputs": [
    {
     "data": {
      "text/plain": [
       "array([[0.41950829, 0.845886  , 0.06474148, 0.37345545, 0.27575386,\n",
       "        0.45183923],\n",
       "       [0.94366875, 0.06604806, 0.8240646 , 0.59117838, 0.72401558,\n",
       "        0.33608835],\n",
       "       [0.8680046 , 0.90417242, 0.12194614, 0.07572821, 0.71109183,\n",
       "        0.40544694],\n",
       "       [0.6681455 , 0.54465104, 0.26742629, 0.12617994, 0.13306988,\n",
       "        0.43094377],\n",
       "       [0.38758856, 0.95556759, 0.82668755, 0.50932268, 0.55617845,\n",
       "        0.78169   ],\n",
       "       [0.90410693, 0.8310482 , 0.05087261, 0.23569396, 0.29732432,\n",
       "        0.85577056],\n",
       "       [0.59417784, 0.26081994, 0.9643509 , 0.76905933, 0.24675742,\n",
       "        0.1115102 ],\n",
       "       [0.63985467, 0.17014983, 0.43958584, 0.90955821, 0.37928998,\n",
       "        0.87459043]])"
      ]
     },
     "execution_count": 7,
     "metadata": {},
     "output_type": "execute_result"
    }
   ],
   "source": [
    "rand_arr = np.random.random((8,6)); rand_arr"
   ]
  },
  {
   "cell_type": "code",
   "execution_count": 8,
   "id": "9478ab4a",
   "metadata": {},
   "outputs": [
    {
     "data": {
      "text/plain": [
       "array([0.27575386, 0.45183923])"
      ]
     },
     "execution_count": 8,
     "metadata": {},
     "output_type": "execute_result"
    }
   ],
   "source": [
    "rand_arr[0,4:6]"
   ]
  },
  {
   "cell_type": "code",
   "execution_count": 10,
   "id": "ffe05db5",
   "metadata": {},
   "outputs": [],
   "source": [
    "x = [1,2,5]\n",
    "x.extend([2,4])"
   ]
  },
  {
   "cell_type": "code",
   "execution_count": 11,
   "id": "887808cc",
   "metadata": {},
   "outputs": [
    {
     "data": {
      "text/plain": [
       "[1, 2, 5, 2, 4]"
      ]
     },
     "execution_count": 11,
     "metadata": {},
     "output_type": "execute_result"
    }
   ],
   "source": [
    "x"
   ]
  },
  {
   "cell_type": "code",
   "execution_count": null,
   "id": "9393d59a",
   "metadata": {},
   "outputs": [],
   "source": []
  }
 ],
 "metadata": {
  "kernelspec": {
   "display_name": "Python 3 (ipykernel)",
   "language": "python",
   "name": "python3"
  },
  "language_info": {
   "codemirror_mode": {
    "name": "ipython",
    "version": 3
   },
   "file_extension": ".py",
   "mimetype": "text/x-python",
   "name": "python",
   "nbconvert_exporter": "python",
   "pygments_lexer": "ipython3",
   "version": "3.7.7"
  }
 },
 "nbformat": 4,
 "nbformat_minor": 5
}
